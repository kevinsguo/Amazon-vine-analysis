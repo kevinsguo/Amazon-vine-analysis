{
  "nbformat": 4,
  "nbformat_minor": 0,
  "metadata": {
    "colab": {
      "name": "Vine_Review_Analysis.ipynb",
      "provenance": [],
      "collapsed_sections": []
    },
    "kernelspec": {
      "name": "python3",
      "display_name": "Python 3"
    },
    "language_info": {
      "name": "python"
    }
  },
  "cells": [
    {
      "cell_type": "code",
      "metadata": {
        "id": "x4YD6zGZCi-H",
        "colab": {
          "base_uri": "https://localhost:8080/"
        },
        "outputId": "82ab3d75-6812-459f-d78b-5d38a48d30ec"
      },
      "source": [
        "import os\n",
        "# Find the latest version of spark 2.0  from http://www-us.apache.org/dist/spark/ and enter as the spark version\n",
        "# For example:\n",
        "# spark_version = 'spark-3.0.0'\n",
        "spark_version = 'spark-3.1.2'\n",
        "os.environ['SPARK_VERSION']=spark_version\n",
        "\n",
        "# Install Spark and Java\n",
        "!apt-get update\n",
        "!apt-get install openjdk-11-jdk-headless -qq > /dev/null\n",
        "!wget -q http://www-us.apache.org/dist/spark/$SPARK_VERSION/$SPARK_VERSION-bin-hadoop2.7.tgz\n",
        "!tar xf $SPARK_VERSION-bin-hadoop2.7.tgz\n",
        "!pip install -q findspark\n",
        "\n",
        "# Set Environment Variables\n",
        "import os\n",
        "os.environ[\"JAVA_HOME\"] = \"/usr/lib/jvm/java-11-openjdk-amd64\"\n",
        "os.environ[\"SPARK_HOME\"] = f\"/content/{spark_version}-bin-hadoop2.7\"\n",
        "\n",
        "# Start a SparkSession\n",
        "import findspark\n",
        "findspark.init()"
      ],
      "execution_count": 2,
      "outputs": [
        {
          "output_type": "stream",
          "text": [
            "\r0% [Working]\r            \rGet:1 http://security.ubuntu.com/ubuntu bionic-security InRelease [88.7 kB]\n",
            "\r0% [Connecting to archive.ubuntu.com (91.189.88.152)] [1 InRelease 14.2 kB/88.7\r0% [Waiting for headers] [Waiting for headers] [Waiting for headers] [Waiting f\r0% [1 InRelease gpgv 88.7 kB] [Waiting for headers] [Waiting for headers] [Wait\r                                                                               \rHit:2 https://cloud.r-project.org/bin/linux/ubuntu bionic-cran40/ InRelease\n",
            "\r0% [1 InRelease gpgv 88.7 kB] [Waiting for headers] [Waiting for headers] [Wait\r                                                                               \rIgn:3 https://developer.download.nvidia.com/compute/cuda/repos/ubuntu1804/x86_64  InRelease\n",
            "\r0% [1 InRelease gpgv 88.7 kB] [Waiting for headers] [Waiting for headers] [Wait\r                                                                               \rGet:4 http://ppa.launchpad.net/c2d4u.team/c2d4u4.0+/ubuntu bionic InRelease [15.9 kB]\n",
            "Hit:5 http://archive.ubuntu.com/ubuntu bionic InRelease\n",
            "Ign:6 https://developer.download.nvidia.com/compute/machine-learning/repos/ubuntu1804/x86_64  InRelease\n",
            "Hit:7 https://developer.download.nvidia.com/compute/cuda/repos/ubuntu1804/x86_64  Release\n",
            "Hit:8 https://developer.download.nvidia.com/compute/machine-learning/repos/ubuntu1804/x86_64  Release\n",
            "Get:9 http://archive.ubuntu.com/ubuntu bionic-updates InRelease [88.7 kB]\n",
            "Hit:10 http://ppa.launchpad.net/cran/libgit2/ubuntu bionic InRelease\n",
            "Get:11 http://archive.ubuntu.com/ubuntu bionic-backports InRelease [74.6 kB]\n",
            "Hit:12 http://ppa.launchpad.net/deadsnakes/ppa/ubuntu bionic InRelease\n",
            "Hit:13 http://ppa.launchpad.net/graphics-drivers/ppa/ubuntu bionic InRelease\n",
            "Get:16 http://ppa.launchpad.net/c2d4u.team/c2d4u4.0+/ubuntu bionic/main amd64 Packages [909 kB]\n",
            "Fetched 1,177 kB in 3s (457 kB/s)\n",
            "Reading package lists... Done\n"
          ],
          "name": "stdout"
        }
      ]
    },
    {
      "cell_type": "code",
      "metadata": {
        "id": "XJbHZsZBtTKB"
      },
      "source": [
        "from pyspark.sql import SparkSession\n",
        "spark = SparkSession.builder.appName(\"BigData-Challenge\").config(\"spark.driver.extraClassPath\",\"/content/postgresql-42.2.16.jar\").getOrCreate()"
      ],
      "execution_count": 3,
      "outputs": []
    },
    {
      "cell_type": "code",
      "metadata": {
        "colab": {
          "base_uri": "https://localhost:8080/"
        },
        "id": "lAmmkyNXtl0m",
        "outputId": "a4b8800e-3552-42d7-f94a-da7c946f485b"
      },
      "source": [
        "from pyspark import SparkFiles\n",
        "url = \"https://s3.amazonaws.com/amazon-reviews-pds/tsv/amazon_reviews_us_Software_v1_00.tsv.gz\"\n",
        "spark.sparkContext.addFile(url)\n",
        "df = spark.read.option(\"encoding\", \"UTF-8\").csv(SparkFiles.get(\"\"), sep=\"\\t\", header=True, inferSchema=True)\n",
        "df.show(5)"
      ],
      "execution_count": 4,
      "outputs": [
        {
          "output_type": "stream",
          "text": [
            "+-----------+-----------+--------------+----------+--------------+--------------------+----------------+-----------+-------------+-----------+----+-----------------+--------------------+--------------------+-----------+\n",
            "|marketplace|customer_id|     review_id|product_id|product_parent|       product_title|product_category|star_rating|helpful_votes|total_votes|vine|verified_purchase|     review_headline|         review_body|review_date|\n",
            "+-----------+-----------+--------------+----------+--------------+--------------------+----------------+-----------+-------------+-----------+----+-----------------+--------------------+--------------------+-----------+\n",
            "|         US|   42605767|R3EFW2STIYIY0I|B00MUTIDKI|     248732228|McAfee 2015 Inter...|        Software|          1|            2|          2|   N|                Y|I was very disapp...|I was very disapp...| 2015-08-31|\n",
            "|         US|   51771800|R12NR0R5A9F7FT|B00EPACNUG|     531462352|Hallmark Card Stu...|        Software|          5|            0|          0|   N|                Y|          Five Stars|I had a little st...| 2015-08-31|\n",
            "|         US|   16053526|R1LSH74R9XAP59|B00164AZA4|     473982505| Search and Rescue 4|        Software|          2|            0|          1|   N|                Y|    Have windows 10?|Tried to download...| 2015-08-31|\n",
            "|         US|   15319481|R1QXUNTF76K7L6|B00E6LIEFM|     189774198|      Quickbooks Pro|        Software|          2|            0|          0|   N|                Y|Disc was corrupt,...|Disc was corrupt,...| 2015-08-31|\n",
            "|         US|    1441820|R2F7DR75PS8NKT|B00VWEBG06|     852470365|Windows 7 Profess...|        Software|          5|            0|          0|   N|                Y|          Five Stars|Just what I neede...| 2015-08-31|\n",
            "+-----------+-----------+--------------+----------+--------------+--------------------+----------------+-----------+-------------+-----------+----+-----------------+--------------------+--------------------+-----------+\n",
            "only showing top 5 rows\n",
            "\n"
          ],
          "name": "stdout"
        }
      ]
    },
    {
      "cell_type": "code",
      "metadata": {
        "colab": {
          "base_uri": "https://localhost:8080/"
        },
        "id": "nC5-8H6-uVNh",
        "outputId": "d456cea6-ac90-4afc-ca60-1de7ffbdaf46"
      },
      "source": [
        "# Create vine_table dataframe\n",
        "vine_table = df.select('review_id', 'star_rating', 'helpful_votes', 'total_votes', 'vine','verified_purchase')\n",
        "vine_table.show(10)"
      ],
      "execution_count": 5,
      "outputs": [
        {
          "output_type": "stream",
          "text": [
            "+--------------+-----------+-------------+-----------+----+-----------------+\n",
            "|     review_id|star_rating|helpful_votes|total_votes|vine|verified_purchase|\n",
            "+--------------+-----------+-------------+-----------+----+-----------------+\n",
            "|R3EFW2STIYIY0I|          1|            2|          2|   N|                Y|\n",
            "|R12NR0R5A9F7FT|          5|            0|          0|   N|                Y|\n",
            "|R1LSH74R9XAP59|          2|            0|          1|   N|                Y|\n",
            "|R1QXUNTF76K7L6|          2|            0|          0|   N|                Y|\n",
            "|R2F7DR75PS8NKT|          5|            0|          0|   N|                Y|\n",
            "|R2C1DJSCC8UFS6|          3|            0|          0|   N|                Y|\n",
            "|R1AXGS1W4YFXMX|          1|            0|          2|   N|                Y|\n",
            "|R1XU1B93402SYJ|          1|            1|          1|   N|                Y|\n",
            "|R2U432NB3OPVR0|          5|            0|          0|   N|                Y|\n",
            "|R3R6FIMIOQ5SP9|          5|            0|          0|   N|                Y|\n",
            "+--------------+-----------+-------------+-----------+----+-----------------+\n",
            "only showing top 10 rows\n",
            "\n"
          ],
          "name": "stdout"
        }
      ]
    },
    {
      "cell_type": "code",
      "metadata": {
        "colab": {
          "base_uri": "https://localhost:8080/"
        },
        "id": "8JX0FlVEuWvn",
        "outputId": "e4e4c52a-f244-494c-e3dd-19ccecd666cb"
      },
      "source": [
        "# filter for total votes greater than 20\n",
        "df_20votes = vine_table.filter(vine_table.total_votes >= 20)\n",
        "df_20votes.show()"
      ],
      "execution_count": 9,
      "outputs": [
        {
          "output_type": "stream",
          "text": [
            "+--------------+-----------+-------------+-----------+----+-----------------+\n",
            "|     review_id|star_rating|helpful_votes|total_votes|vine|verified_purchase|\n",
            "+--------------+-----------+-------------+-----------+----+-----------------+\n",
            "|R26CC1STPSUHBS|          1|           27|         39|   N|                N|\n",
            "| R7K83D59T9KWS|          1|           16|         26|   N|                N|\n",
            "|R2ATG5BPVILHUM|          1|           16|         25|   N|                N|\n",
            "|R1Q71TAM5ZOYTK|          3|           57|         61|   N|                N|\n",
            "| RR8HYI7C2XKMU|          5|           25|         25|   N|                Y|\n",
            "|R1VDCSJE4CJJIR|          1|           88|         97|   N|                Y|\n",
            "|R2PZMSDKOO1Q6W|          1|           29|         43|   N|                Y|\n",
            "|R39OOYN0DOLINK|          3|           91|        111|   N|                N|\n",
            "|R1PLNHJZ8BKIBG|          1|           44|         46|   N|                Y|\n",
            "|R14G4YQXL17REH|          1|            4|         28|   N|                N|\n",
            "|R3UTVKJF44E0R6|          1|           46|         69|   N|                N|\n",
            "| R2J71KOOLF9UB|          1|            5|         20|   N|                Y|\n",
            "|R2CAD5FOVMTR2L|          2|           17|         28|   N|                N|\n",
            "|R2SW9V1EDQH6O7|          5|           27|         29|   N|                N|\n",
            "|R3SI1TZD809Y0T|          5|           24|         24|   N|                Y|\n",
            "|R23WY4HVMD8SY3|          1|            7|         24|   N|                N|\n",
            "|R2V0VLBRWCMX3I|          1|          563|        601|   N|                N|\n",
            "| R34R79B2P5DJD|          1|           87|        112|   N|                N|\n",
            "| R4D6AQ86X5RQG|          1|           22|         26|   N|                N|\n",
            "|R1BSZ4PB99TN8D|          1|           61|         90|   N|                N|\n",
            "+--------------+-----------+-------------+-----------+----+-----------------+\n",
            "only showing top 20 rows\n",
            "\n"
          ],
          "name": "stdout"
        }
      ]
    },
    {
      "cell_type": "code",
      "metadata": {
        "colab": {
          "base_uri": "https://localhost:8080/"
        },
        "id": "GAzNDwp7vJX_",
        "outputId": "714ae0b7-47db-48e7-9627-e0bd47bfc791"
      },
      "source": [
        "# filter helpful_votes/total_votes greater than 50%\n",
        "helpful_df = df_20votes.filter((df_20votes['helpful_votes']) / (df_20votes['total_votes']) >= 0.5)\n",
        "helpful_df.show(5)\n",
        "helpful_df.count()"
      ],
      "execution_count": 11,
      "outputs": [
        {
          "output_type": "stream",
          "text": [
            "+--------------+-----------+-------------+-----------+----+-----------------+\n",
            "|     review_id|star_rating|helpful_votes|total_votes|vine|verified_purchase|\n",
            "+--------------+-----------+-------------+-----------+----+-----------------+\n",
            "|R26CC1STPSUHBS|          1|           27|         39|   N|                N|\n",
            "| R7K83D59T9KWS|          1|           16|         26|   N|                N|\n",
            "|R2ATG5BPVILHUM|          1|           16|         25|   N|                N|\n",
            "|R1Q71TAM5ZOYTK|          3|           57|         61|   N|                N|\n",
            "| RR8HYI7C2XKMU|          5|           25|         25|   N|                Y|\n",
            "+--------------+-----------+-------------+-----------+----+-----------------+\n",
            "only showing top 5 rows\n",
            "\n"
          ],
          "name": "stdout"
        },
        {
          "output_type": "execute_result",
          "data": {
            "text/plain": [
              "17762"
            ]
          },
          "metadata": {
            "tags": []
          },
          "execution_count": 11
        }
      ]
    },
    {
      "cell_type": "code",
      "metadata": {
        "colab": {
          "base_uri": "https://localhost:8080/"
        },
        "id": "TXrmOA28vyG8",
        "outputId": "3e30687e-e9b9-47fb-a3df-3e2ee8035db3"
      },
      "source": [
        "# Filtering out the paid vine reviews\n",
        "vine_review_df = helpful_df.filter(helpful_df['vine'] == 'Y')\n",
        "\n",
        "vine_review_df.show(10)"
      ],
      "execution_count": 12,
      "outputs": [
        {
          "output_type": "stream",
          "text": [
            "+--------------+-----------+-------------+-----------+----+-----------------+\n",
            "|     review_id|star_rating|helpful_votes|total_votes|vine|verified_purchase|\n",
            "+--------------+-----------+-------------+-----------+----+-----------------+\n",
            "|R28EIR3Z6RRUNN|          2|           50|         60|   Y|                N|\n",
            "|R2YO2RESXZEWOF|          4|           24|         25|   Y|                N|\n",
            "| R8GEE2EW3D6S9|          3|           49|         54|   Y|                N|\n",
            "|R33W9V1MX6WKPS|          4|           47|         53|   Y|                N|\n",
            "|R24E3W2ZRIFG8C|          5|           91|         93|   Y|                N|\n",
            "|R2OR3KIFFG4YWT|          4|           75|         81|   Y|                Y|\n",
            "|R1RLJAAFOA5MMS|          2|           25|         27|   Y|                N|\n",
            "| RVYHD7IZ7W99B|          1|           78|         78|   Y|                N|\n",
            "|R12EV95D2T56HA|          5|           37|         37|   Y|                N|\n",
            "|R296NVZGV4VZLP|          5|           41|         44|   Y|                N|\n",
            "+--------------+-----------+-------------+-----------+----+-----------------+\n",
            "only showing top 10 rows\n",
            "\n"
          ],
          "name": "stdout"
        }
      ]
    },
    {
      "cell_type": "code",
      "metadata": {
        "colab": {
          "base_uri": "https://localhost:8080/"
        },
        "id": "JmGd4deUwLHT",
        "outputId": "9cac0680-13f8-49a1-b7c3-df6b06545c6c"
      },
      "source": [
        "# Filter out the unpaid vine reviews\n",
        "unpaid_vine_review_df = helpful_df.filter(helpful_df['vine'] == 'N')\n",
        "\n",
        "unpaid_vine_review_df.show(5)"
      ],
      "execution_count": 13,
      "outputs": [
        {
          "output_type": "stream",
          "text": [
            "+--------------+-----------+-------------+-----------+----+-----------------+\n",
            "|     review_id|star_rating|helpful_votes|total_votes|vine|verified_purchase|\n",
            "+--------------+-----------+-------------+-----------+----+-----------------+\n",
            "|R26CC1STPSUHBS|          1|           27|         39|   N|                N|\n",
            "| R7K83D59T9KWS|          1|           16|         26|   N|                N|\n",
            "|R2ATG5BPVILHUM|          1|           16|         25|   N|                N|\n",
            "|R1Q71TAM5ZOYTK|          3|           57|         61|   N|                N|\n",
            "| RR8HYI7C2XKMU|          5|           25|         25|   N|                Y|\n",
            "+--------------+-----------+-------------+-----------+----+-----------------+\n",
            "only showing top 5 rows\n",
            "\n"
          ],
          "name": "stdout"
        }
      ]
    },
    {
      "cell_type": "code",
      "metadata": {
        "colab": {
          "base_uri": "https://localhost:8080/"
        },
        "id": "jhRbBnNZxWcv",
        "outputId": "047dd2ec-570a-40cf-dc2a-972eced1bb13"
      },
      "source": [
        "# Number of paid vine reviews\n",
        "vine_paid_count = vine_review_df.count()\n",
        "print(f\" There are {vine_paid_count} vine reviews\")\n",
        "\n",
        "# Total vine program reviews\n",
        "five_star_df = vine_review_df.filter(vine_review_df['star_rating'] == '5')\n",
        "five_star_vine_reviewcount = five_star_df.count()\n",
        "print(f\" There are a total of {five_star_vine_reviewcount} vine program reviews\")\n",
        "\n",
        "#Percentage of reviews that are 5 stars\n",
        "percentage = round(((five_star_vine_reviewcount / vine_paid_count) * 100), 0)\n",
        "print(f\" {percentage} of the total reviews are 5 star reviews\")"
      ],
      "execution_count": 22,
      "outputs": [
        {
          "output_type": "stream",
          "text": [
            " There are 248 vine reviews\n",
            " There are a total of 102 vine program reviews\n",
            " 41.0 of the total reviews are 5 star reviews\n"
          ],
          "name": "stdout"
        }
      ]
    },
    {
      "cell_type": "code",
      "metadata": {
        "colab": {
          "base_uri": "https://localhost:8080/"
        },
        "id": "Bdn2uqFixiCM",
        "outputId": "48ffe7cd-b84e-4b2d-cbf5-28988d665b84"
      },
      "source": [
        "# Number of unpaid vine reviews\n",
        "vine_unpaid_count = unpaid_vine_review_df.count()\n",
        "print(f\" There are {vine_unpaid_count} non-vine reviews\")\n",
        "\n",
        "# Total vine program reviews\n",
        "unpaid_five_star_df = unpaid_vine_review_df.filter(unpaid_vine_review_df['star_rating'] == '5')\n",
        "unpaid_five_star_vine_reviewcount = unpaid_five_star_df.count()\n",
        "print(f\" There are a total of {unpaid_five_star_vine_reviewcount} non-vine program reviews\")\n",
        "\n",
        "#Percentage of reviews that are 5 stars\n",
        "percentage_unpaid = round(((unpaid_five_star_vine_reviewcount / vine_unpaid_count) * 100), 0)\n",
        "print(f\" {percentage_unpaid} of the total non-vine reviews are 5 star reviews\")"
      ],
      "execution_count": 24,
      "outputs": [
        {
          "output_type": "stream",
          "text": [
            " There are 17514 non-vine reviews\n",
            " There are a total of 5154 non-vine program reviews\n",
            " 29.0 of the total non-vine reviews are 5 star reviews\n"
          ],
          "name": "stdout"
        }
      ]
    }
  ]
}